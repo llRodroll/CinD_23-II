{
  "nbformat": 4,
  "nbformat_minor": 0,
  "metadata": {
    "colab": {
      "provenance": [],
      "authorship_tag": "ABX9TyNLeuPavO9GwbcSJu5jObUF",
      "include_colab_link": true
    },
    "kernelspec": {
      "name": "python3",
      "display_name": "Python 3"
    },
    "language_info": {
      "name": "python"
    }
  },
  "cells": [
    {
      "cell_type": "markdown",
      "metadata": {
        "id": "view-in-github",
        "colab_type": "text"
      },
      "source": [
        "<a href=\"https://colab.research.google.com/github/llRodroll/CinD_23-II/blob/main/00_Basics_MD.ipynb\" target=\"_parent\"><img src=\"https://colab.research.google.com/assets/colab-badge.svg\" alt=\"Open In Colab\"/></a>"
      ]
    },
    {
      "cell_type": "markdown",
      "source": [
        "# Title\n"
      ],
      "metadata": {
        "id": "OK1pxUP2CCgC"
      }
    },
    {
      "cell_type": "markdown",
      "source": [
        "kjhbok gdfj gos sdnmks jsdfg sdjfgi"
      ],
      "metadata": {
        "id": "zxs1sNuH3O_y"
      }
    },
    {
      "cell_type": "markdown",
      "source": [
        "## Subtitle"
      ],
      "metadata": {
        "id": "sXKKaFPc3AtG"
      }
    },
    {
      "cell_type": "code",
      "execution_count": null,
      "metadata": {
        "id": "4MyMSs7V9Hy-"
      },
      "outputs": [],
      "source": []
    },
    {
      "cell_type": "markdown",
      "source": [
        "# Title 2"
      ],
      "metadata": {
        "id": "x0LwJItB3b8M"
      }
    },
    {
      "cell_type": "markdown",
      "source": [
        "nskdnaskdnkwqnk"
      ],
      "metadata": {
        "id": "SHGxJ6uF3efy"
      }
    },
    {
      "cell_type": "markdown",
      "source": [
        "# **Text formating**"
      ],
      "metadata": {
        "id": "joSFYeaH3sX_"
      }
    },
    {
      "cell_type": "markdown",
      "source": [
        "## Bold"
      ],
      "metadata": {
        "id": "CGp16ThN4CHi"
      }
    },
    {
      "cell_type": "markdown",
      "source": [
        "Use `**` at the begining and at the end.\n",
        "\n",
        "**José Rodrigo Vélez Molano**"
      ],
      "metadata": {
        "id": "fDTkb2lf4FQf"
      }
    },
    {
      "cell_type": "markdown",
      "source": [
        "## Italics\n",
        "\n",
        "Use `*` at the begining and at the end.\n",
        "\n",
        "*José Rodrigo Vélez Molano*"
      ],
      "metadata": {
        "id": "IHCM1yMY4v6t"
      }
    },
    {
      "cell_type": "markdown",
      "source": [
        "## Underline\n",
        "\n",
        "You cannot."
      ],
      "metadata": {
        "id": "jgwG6Yr65MaU"
      }
    },
    {
      "cell_type": "markdown",
      "source": [
        "## Bold and Italics\n",
        "\n",
        "Use `***` at the begining and at the end.\n",
        "\n",
        "***José Rodrigo Vélez Molano***"
      ],
      "metadata": {
        "id": "Izatle2E5WFE"
      }
    },
    {
      "cell_type": "markdown",
      "source": [
        "# **Lists**"
      ],
      "metadata": {
        "id": "YvUU2Wfk6uqy"
      }
    },
    {
      "cell_type": "markdown",
      "source": [
        "## Unordered List\n",
        "\n",
        "Just bullets.\n",
        "\n",
        "For example:\n",
        "\n",
        "**My hobbies:**\n",
        "* Do exercise.\n",
        "* Wacth movies.\n",
        "* Spend time with the love ones."
      ],
      "metadata": {
        "id": "GyfK5AVe53aT"
      }
    },
    {
      "cell_type": "markdown",
      "source": [
        "## Odered List\n",
        "\n",
        "Just use numbers...\n",
        "\n",
        "For example:\n",
        "\n",
        "**My top 5 singers**\n",
        "1. Shakira\n",
        "2. Vives\n",
        "3. Maluma\n",
        "4. JBalvin\n",
        "5. Karol G\n"
      ],
      "metadata": {
        "id": "FjciT6ai6ny8"
      }
    },
    {
      "cell_type": "markdown",
      "source": [
        "## Netsed List\n",
        "\n",
        "For example:\n",
        "\n",
        "**My daily routine:**\n",
        "1. Morning\n",
        "\n",
        "    1.1. Wake up\n",
        "\n",
        "    1.2. Eat breakfast\n",
        "\n",
        "    1.3. Take a shower\n",
        "    \n",
        "    1.4. Go to work\n",
        "\n",
        "\n",
        "2. Afternoon\n",
        "3. Night"
      ],
      "metadata": {
        "id": "UlxaRhxY7MBp"
      }
    },
    {
      "cell_type": "markdown",
      "source": [
        "# **Inserts**"
      ],
      "metadata": {
        "id": "fq2rnQ7j8Hng"
      }
    },
    {
      "cell_type": "markdown",
      "source": [
        "## Links\n",
        "\n",
        "[La Salle](https://www.lasalle.edu.co/inicio/)"
      ],
      "metadata": {
        "id": "6P3nCRUc8N84"
      }
    },
    {
      "cell_type": "markdown",
      "source": [
        "## Images\n",
        "\n",
        "![link text](data:image/jpeg;base64,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)"
      ],
      "metadata": {
        "id": "Cf6u7feE8t5h"
      }
    },
    {
      "cell_type": "markdown",
      "source": [
        "![image.jfif](data:image/jpeg;base64,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)"
      ],
      "metadata": {
        "id": "zoq5joLH9gtV"
      }
    },
    {
      "cell_type": "code",
      "source": [
        "%%html\n",
        "<iframe width=\"560\" height=\"315\" src=\"https://www.youtube.com/embed/ijieNEFb2Wg\" title=\"YouTube video player\" frameborder=\"0\" allow=\"accelerometer; autoplay; clipboard-write; encrypted-media; gyroscope; picture-in-picture; web-share\" allowfullscreen></iframe>"
      ],
      "metadata": {
        "id": "Gmu_izAPAQ_E"
      },
      "execution_count": null,
      "outputs": []
    },
    {
      "cell_type": "markdown",
      "source": [
        "# **A simple table**\n",
        "\n",
        "| First Name | Last Name |\n",
        "|------------|-----------|\n",
        "| Rodrigo    | Vélez     |\n",
        "| José       | Molano    |"
      ],
      "metadata": {
        "id": "zF2_JHEPBPUx"
      }
    },
    {
      "cell_type": "markdown",
      "source": [
        "# **Equation**\n",
        "\n",
        "For example: *The Pytagoras Theorem*\n",
        "\n",
        "$a^2 + b^2 = c^2$\n",
        "\n",
        "$\\begin{equation}\n",
        "a^2 + b^2 = c^2\n",
        "\\end{equation}$\n"
      ],
      "metadata": {
        "id": "3MIBlAmsCNbn"
      }
    }
  ]
}