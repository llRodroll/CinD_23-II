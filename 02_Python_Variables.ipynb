{
  "nbformat": 4,
  "nbformat_minor": 0,
  "metadata": {
    "colab": {
      "provenance": [],
      "authorship_tag": "ABX9TyM9s9vFAR6Q6SopJYy/7aqT",
      "include_colab_link": true
    },
    "kernelspec": {
      "name": "python3",
      "display_name": "Python 3"
    },
    "language_info": {
      "name": "python"
    }
  },
  "cells": [
    {
      "cell_type": "markdown",
      "metadata": {
        "id": "view-in-github",
        "colab_type": "text"
      },
      "source": [
        "<a href=\"https://colab.research.google.com/github/llRodroll/CinD_23-II/blob/main/02_Python_Variables.ipynb\" target=\"_parent\"><img src=\"https://colab.research.google.com/assets/colab-badge.svg\" alt=\"Open In Colab\"/></a>"
      ]
    },
    {
      "cell_type": "markdown",
      "source": [
        "# **1. What is variable?**\n",
        "\n",
        "It is a *container*. You can save *stuff* in there."
      ],
      "metadata": {
        "id": "KsncW9NN6QUq"
      }
    },
    {
      "cell_type": "code",
      "execution_count": null,
      "metadata": {
        "id": "Lu7vTJhG6HbL"
      },
      "outputs": [],
      "source": [
        "# Example\n",
        "a = 10"
      ]
    },
    {
      "cell_type": "code",
      "source": [
        "print(a + 1)\n",
        "print(a*a)\n",
        "print(a/2)"
      ],
      "metadata": {
        "colab": {
          "base_uri": "https://localhost:8080/"
        },
        "id": "V2_aK0Eh7tsZ",
        "outputId": "ee6157a1-4f2e-4421-a8d9-1703549d7fb4"
      },
      "execution_count": null,
      "outputs": [
        {
          "output_type": "stream",
          "name": "stdout",
          "text": [
            "11\n",
            "100\n",
            "5.0\n"
          ]
        }
      ]
    },
    {
      "cell_type": "code",
      "source": [
        "# Example\n",
        "x = y = z = 100"
      ],
      "metadata": {
        "id": "-M_QWrlz8cTv"
      },
      "execution_count": null,
      "outputs": []
    },
    {
      "cell_type": "markdown",
      "source": [
        "# **2. Delete and Clear**"
      ],
      "metadata": {
        "id": "cs-lrQu88tNP"
      }
    },
    {
      "cell_type": "code",
      "source": [
        "# Delete\n",
        "del y, z"
      ],
      "metadata": {
        "id": "OOXpEP0x8029"
      },
      "execution_count": null,
      "outputs": []
    },
    {
      "cell_type": "code",
      "source": [
        "# Clear\n",
        "# be careful! you delete everything\n",
        "%reset"
      ],
      "metadata": {
        "colab": {
          "base_uri": "https://localhost:8080/"
        },
        "id": "mhqKmDjZ9NYV",
        "outputId": "360ff763-a909-4ff3-82f8-339c4ebf79b1"
      },
      "execution_count": null,
      "outputs": [
        {
          "name": "stdout",
          "output_type": "stream",
          "text": [
            "Once deleted, variables cannot be recovered. Proceed (y/[n])? y\n"
          ]
        }
      ]
    },
    {
      "cell_type": "code",
      "source": [
        "# Exercise 1\n",
        "## Aproximate the number 15.4795612358\n",
        "## to 1,2,3,....., decimals and print the result\n",
        "\n",
        "## USING VARIABLES\n",
        "\n",
        "n = 15.4795612358 # the number to approx.\n",
        "a = 0             # the initial approx.\n",
        "z = 11            # (z - 1) is the last approx.\n",
        "\n",
        "for i in range(a,z):\n",
        "  print('Approx. with:',i,'decimals',round(n,i))"
      ],
      "metadata": {
        "colab": {
          "base_uri": "https://localhost:8080/"
        },
        "id": "tmz5Qsg0_qVV",
        "outputId": "a6e4b80c-2339-4fc0-d397-da9ba29d285b"
      },
      "execution_count": null,
      "outputs": [
        {
          "output_type": "stream",
          "name": "stdout",
          "text": [
            "Approx. with: 0 decimals 15.0\n",
            "Approx. with: 1 decimals 15.5\n",
            "Approx. with: 2 decimals 15.48\n",
            "Approx. with: 3 decimals 15.48\n",
            "Approx. with: 4 decimals 15.4796\n",
            "Approx. with: 5 decimals 15.47956\n",
            "Approx. with: 6 decimals 15.479561\n",
            "Approx. with: 7 decimals 15.4795612\n",
            "Approx. with: 8 decimals 15.47956124\n",
            "Approx. with: 9 decimals 15.479561236\n",
            "Approx. with: 10 decimals 15.4795612358\n"
          ]
        }
      ]
    },
    {
      "cell_type": "code",
      "source": [
        "# Exercise 2\n",
        "# Find and print the 100 first multples of 7\n",
        "\n",
        "# USING VARIABLES\n",
        "\n",
        "n = 4     # the number\n",
        "a = 0     # the initial multiple.\n",
        "z = 11   # (z - 1) is the last multiple.\n",
        "\n",
        "print('The', z-1, 'multiples of', n)\n",
        "for i in range(a,z):\n",
        "  print('The multiple in position',i,'is',i*n)"
      ],
      "metadata": {
        "colab": {
          "base_uri": "https://localhost:8080/"
        },
        "id": "ohkWVdD9CQlY",
        "outputId": "2323dd98-46a1-4328-f6d5-1a96b2944933"
      },
      "execution_count": null,
      "outputs": [
        {
          "output_type": "stream",
          "name": "stdout",
          "text": [
            "The 10 multiples of 4\n",
            "The multiple in position 0 is 0\n",
            "The multiple in position 1 is 4\n",
            "The multiple in position 2 is 8\n",
            "The multiple in position 3 is 12\n",
            "The multiple in position 4 is 16\n",
            "The multiple in position 5 is 20\n",
            "The multiple in position 6 is 24\n",
            "The multiple in position 7 is 28\n",
            "The multiple in position 8 is 32\n",
            "The multiple in position 9 is 36\n",
            "The multiple in position 10 is 40\n"
          ]
        }
      ]
    },
    {
      "cell_type": "markdown",
      "source": [
        "# **3. Naming**"
      ],
      "metadata": {
        "id": "u2pt6TQ4DJtt"
      }
    },
    {
      "cell_type": "code",
      "source": [
        "# A variable with my name\n",
        "Name = 'Rodrigo'\n",
        "NaMe = 'Rodrigo'\n",
        "NAME = 'Rodrigo'\n",
        "my_name = 'Rodrigo'\n",
        "name = 'Rodrigo'\n",
        "first_name = 'Rodrigo'"
      ],
      "metadata": {
        "id": "py_EN9NmDOR9"
      },
      "execution_count": null,
      "outputs": []
    },
    {
      "cell_type": "code",
      "source": [
        "age1 = 15"
      ],
      "metadata": {
        "id": "xVj3zIVDFZC2"
      },
      "execution_count": null,
      "outputs": []
    },
    {
      "cell_type": "code",
      "source": [
        "age_01 = 15"
      ],
      "metadata": {
        "id": "saY8QiNbFjNb"
      },
      "execution_count": null,
      "outputs": []
    },
    {
      "cell_type": "code",
      "source": [
        "## Let's say I want to create a variable for the price of a cellphone\n",
        "\n",
        "maluma = 100\n",
        "price  = 100"
      ],
      "metadata": {
        "id": "91SXzmVMF9Rr"
      },
      "execution_count": null,
      "outputs": []
    },
    {
      "cell_type": "markdown",
      "source": [
        "# **5. Data types**"
      ],
      "metadata": {
        "id": "mxiVQJKdGZZC"
      }
    },
    {
      "cell_type": "markdown",
      "source": [
        "Integers and floats... OK."
      ],
      "metadata": {
        "id": "BmbnojhqGgSa"
      }
    },
    {
      "cell_type": "code",
      "source": [
        "%reset"
      ],
      "metadata": {
        "colab": {
          "base_uri": "https://localhost:8080/"
        },
        "id": "tSFZVWaoGzBC",
        "outputId": "98ff2831-8a91-4ec5-c8aa-a7fa0362b502"
      },
      "execution_count": null,
      "outputs": [
        {
          "name": "stdout",
          "output_type": "stream",
          "text": [
            "Once deleted, variables cannot be recovered. Proceed (y/[n])? y\n"
          ]
        }
      ]
    },
    {
      "cell_type": "code",
      "source": [
        "w = 1"
      ],
      "metadata": {
        "id": "O-ltLRUJHTR6"
      },
      "execution_count": null,
      "outputs": []
    },
    {
      "cell_type": "code",
      "source": [
        "w += 3\n",
        "print(w)"
      ],
      "metadata": {
        "colab": {
          "base_uri": "https://localhost:8080/"
        },
        "id": "BedQuAbVGqLV",
        "outputId": "8f4659f1-d01a-4c0a-a89c-336c09086d65"
      },
      "execution_count": null,
      "outputs": [
        {
          "output_type": "stream",
          "name": "stdout",
          "text": [
            "7\n"
          ]
        }
      ]
    },
    {
      "cell_type": "markdown",
      "source": [
        "## 5.1. Booleans"
      ],
      "metadata": {
        "id": "n3M4G2rsHrBm"
      }
    },
    {
      "cell_type": "code",
      "source": [
        "am_i_alive = False"
      ],
      "metadata": {
        "id": "A4LR9XurHykT"
      },
      "execution_count": null,
      "outputs": []
    },
    {
      "cell_type": "code",
      "source": [
        "print(am_i_alive)\n",
        "print(type(am_i_alive))"
      ],
      "metadata": {
        "colab": {
          "base_uri": "https://localhost:8080/"
        },
        "id": "2wdjzF90IBXq",
        "outputId": "fd8eaf45-f6bc-42ad-ac32-f0476b10c066"
      },
      "execution_count": null,
      "outputs": [
        {
          "output_type": "stream",
          "name": "stdout",
          "text": [
            "False\n",
            "<class 'bool'>\n"
          ]
        }
      ]
    },
    {
      "cell_type": "markdown",
      "source": [
        "## 5.2. Boolean expressions"
      ],
      "metadata": {
        "id": "Bl6kh4AKIerk"
      }
    },
    {
      "cell_type": "code",
      "source": [
        "x = 2\n",
        "y = 3"
      ],
      "metadata": {
        "id": "BhA1oSIQIjuL"
      },
      "execution_count": null,
      "outputs": []
    },
    {
      "cell_type": "code",
      "source": [
        "result1 = x <= y\n",
        "print(result1)"
      ],
      "metadata": {
        "colab": {
          "base_uri": "https://localhost:8080/"
        },
        "id": "2XVdG4FbIs1p",
        "outputId": "bf2aeb1c-34a7-4bad-a1f4-98990d880a9f"
      },
      "execution_count": null,
      "outputs": [
        {
          "output_type": "stream",
          "name": "stdout",
          "text": [
            "True\n"
          ]
        }
      ]
    },
    {
      "cell_type": "code",
      "source": [
        "result2 = x == y\n",
        "print(result2)"
      ],
      "metadata": {
        "colab": {
          "base_uri": "https://localhost:8080/"
        },
        "id": "JPiY2ZY6Jlcr",
        "outputId": "a864c545-26aa-4b4c-8550-0573b75106b1"
      },
      "execution_count": null,
      "outputs": [
        {
          "output_type": "stream",
          "name": "stdout",
          "text": [
            "False\n"
          ]
        }
      ]
    },
    {
      "cell_type": "code",
      "source": [
        "result1 + result2"
      ],
      "metadata": {
        "colab": {
          "base_uri": "https://localhost:8080/"
        },
        "id": "RFSxPSv0Jv1J",
        "outputId": "7f2fd846-30d3-4af4-f55f-d60159606fbd"
      },
      "execution_count": null,
      "outputs": [
        {
          "output_type": "execute_result",
          "data": {
            "text/plain": [
              "1"
            ]
          },
          "metadata": {},
          "execution_count": 65
        }
      ]
    },
    {
      "cell_type": "code",
      "source": [
        "# Practice\n",
        "# Create the necessary code to evaluate the expression\n",
        "# x*y > x + y\n",
        "# for numbers ranging from 1 to 6\n",
        "\n",
        "for x in range(1,7):\n",
        "  for y in range(1,7):\n",
        "    print('is x*y > x + y?')\n",
        "    print('x = ', x, 'y = ', y)\n",
        "    print('x*y =', x*y, 'x+y =', x+y)\n",
        "    print(x*y > x + y)"
      ],
      "metadata": {
        "id": "9YmP41dYLt54",
        "colab": {
          "base_uri": "https://localhost:8080/"
        },
        "outputId": "49766a45-263c-4f54-b27d-6d93fb9f15ae"
      },
      "execution_count": 5,
      "outputs": [
        {
          "output_type": "stream",
          "name": "stdout",
          "text": [
            "is x*y > x + y?\n",
            "x =  1 y =  1\n",
            "x*y = 1 x+y = 2\n",
            "False\n",
            "is x*y > x + y?\n",
            "x =  1 y =  2\n",
            "x*y = 2 x+y = 3\n",
            "False\n",
            "is x*y > x + y?\n",
            "x =  1 y =  3\n",
            "x*y = 3 x+y = 4\n",
            "False\n",
            "is x*y > x + y?\n",
            "x =  1 y =  4\n",
            "x*y = 4 x+y = 5\n",
            "False\n",
            "is x*y > x + y?\n",
            "x =  1 y =  5\n",
            "x*y = 5 x+y = 6\n",
            "False\n",
            "is x*y > x + y?\n",
            "x =  1 y =  6\n",
            "x*y = 6 x+y = 7\n",
            "False\n",
            "is x*y > x + y?\n",
            "x =  2 y =  1\n",
            "x*y = 2 x+y = 3\n",
            "False\n",
            "is x*y > x + y?\n",
            "x =  2 y =  2\n",
            "x*y = 4 x+y = 4\n",
            "False\n",
            "is x*y > x + y?\n",
            "x =  2 y =  3\n",
            "x*y = 6 x+y = 5\n",
            "True\n",
            "is x*y > x + y?\n",
            "x =  2 y =  4\n",
            "x*y = 8 x+y = 6\n",
            "True\n",
            "is x*y > x + y?\n",
            "x =  2 y =  5\n",
            "x*y = 10 x+y = 7\n",
            "True\n",
            "is x*y > x + y?\n",
            "x =  2 y =  6\n",
            "x*y = 12 x+y = 8\n",
            "True\n",
            "is x*y > x + y?\n",
            "x =  3 y =  1\n",
            "x*y = 3 x+y = 4\n",
            "False\n",
            "is x*y > x + y?\n",
            "x =  3 y =  2\n",
            "x*y = 6 x+y = 5\n",
            "True\n",
            "is x*y > x + y?\n",
            "x =  3 y =  3\n",
            "x*y = 9 x+y = 6\n",
            "True\n",
            "is x*y > x + y?\n",
            "x =  3 y =  4\n",
            "x*y = 12 x+y = 7\n",
            "True\n",
            "is x*y > x + y?\n",
            "x =  3 y =  5\n",
            "x*y = 15 x+y = 8\n",
            "True\n",
            "is x*y > x + y?\n",
            "x =  3 y =  6\n",
            "x*y = 18 x+y = 9\n",
            "True\n",
            "is x*y > x + y?\n",
            "x =  4 y =  1\n",
            "x*y = 4 x+y = 5\n",
            "False\n",
            "is x*y > x + y?\n",
            "x =  4 y =  2\n",
            "x*y = 8 x+y = 6\n",
            "True\n",
            "is x*y > x + y?\n",
            "x =  4 y =  3\n",
            "x*y = 12 x+y = 7\n",
            "True\n",
            "is x*y > x + y?\n",
            "x =  4 y =  4\n",
            "x*y = 16 x+y = 8\n",
            "True\n",
            "is x*y > x + y?\n",
            "x =  4 y =  5\n",
            "x*y = 20 x+y = 9\n",
            "True\n",
            "is x*y > x + y?\n",
            "x =  4 y =  6\n",
            "x*y = 24 x+y = 10\n",
            "True\n",
            "is x*y > x + y?\n",
            "x =  5 y =  1\n",
            "x*y = 5 x+y = 6\n",
            "False\n",
            "is x*y > x + y?\n",
            "x =  5 y =  2\n",
            "x*y = 10 x+y = 7\n",
            "True\n",
            "is x*y > x + y?\n",
            "x =  5 y =  3\n",
            "x*y = 15 x+y = 8\n",
            "True\n",
            "is x*y > x + y?\n",
            "x =  5 y =  4\n",
            "x*y = 20 x+y = 9\n",
            "True\n",
            "is x*y > x + y?\n",
            "x =  5 y =  5\n",
            "x*y = 25 x+y = 10\n",
            "True\n",
            "is x*y > x + y?\n",
            "x =  5 y =  6\n",
            "x*y = 30 x+y = 11\n",
            "True\n",
            "is x*y > x + y?\n",
            "x =  6 y =  1\n",
            "x*y = 6 x+y = 7\n",
            "False\n",
            "is x*y > x + y?\n",
            "x =  6 y =  2\n",
            "x*y = 12 x+y = 8\n",
            "True\n",
            "is x*y > x + y?\n",
            "x =  6 y =  3\n",
            "x*y = 18 x+y = 9\n",
            "True\n",
            "is x*y > x + y?\n",
            "x =  6 y =  4\n",
            "x*y = 24 x+y = 10\n",
            "True\n",
            "is x*y > x + y?\n",
            "x =  6 y =  5\n",
            "x*y = 30 x+y = 11\n",
            "True\n",
            "is x*y > x + y?\n",
            "x =  6 y =  6\n",
            "x*y = 36 x+y = 12\n",
            "True\n"
          ]
        }
      ]
    },
    {
      "cell_type": "markdown",
      "source": [
        "## 5.4. String Variables"
      ],
      "metadata": {
        "id": "4IBbx4sTDn2Z"
      }
    },
    {
      "cell_type": "code",
      "source": [
        "# Example\n",
        "name = 'Rodrigo iudvsdkhsdf vousd,n solsd dflod doldc ndfgidgfm gfepo m'\n",
        "last_name = \"Vélez\"\n",
        "print(type(name))\n",
        "print(last_name)"
      ],
      "metadata": {
        "colab": {
          "base_uri": "https://localhost:8080/"
        },
        "id": "d6ly6XvgDwOh",
        "outputId": "d5b22f97-50b0-4eac-f855-399dd62af156"
      },
      "execution_count": 8,
      "outputs": [
        {
          "output_type": "stream",
          "name": "stdout",
          "text": [
            "<class 'str'>\n",
            "Vélez\n"
          ]
        }
      ]
    },
    {
      "cell_type": "code",
      "source": [
        "# Example - caution\n",
        "price = '100'\n",
        "print(price)\n",
        "print(price*2)"
      ],
      "metadata": {
        "colab": {
          "base_uri": "https://localhost:8080/"
        },
        "id": "Do1oc079E1kg",
        "outputId": "cc2dc74f-5619-4540-edb1-ec8360a95285"
      },
      "execution_count": 10,
      "outputs": [
        {
          "output_type": "stream",
          "name": "stdout",
          "text": [
            "100\n",
            "100100\n"
          ]
        }
      ]
    },
    {
      "cell_type": "code",
      "source": [
        "new_price = int(price)\n",
        "print(new_price)"
      ],
      "metadata": {
        "colab": {
          "base_uri": "https://localhost:8080/"
        },
        "id": "g9Om3AFQFaD_",
        "outputId": "1d80492e-a526-489c-eafb-cfee2e63268b"
      },
      "execution_count": 12,
      "outputs": [
        {
          "output_type": "stream",
          "name": "stdout",
          "text": [
            "100\n"
          ]
        }
      ]
    },
    {
      "cell_type": "code",
      "source": [
        "print(int(last_name))"
      ],
      "metadata": {
        "id": "jsYodxL0FqSm"
      },
      "execution_count": null,
      "outputs": []
    },
    {
      "cell_type": "markdown",
      "source": [
        "**Slicing**"
      ],
      "metadata": {
        "id": "AY6j5aYoGCXf"
      }
    },
    {
      "cell_type": "code",
      "source": [
        "# Example\n",
        "u = 'Universidad de La Salle'\n",
        "print(u)"
      ],
      "metadata": {
        "colab": {
          "base_uri": "https://localhost:8080/"
        },
        "id": "OzquMIQuGHdv",
        "outputId": "45ce5787-bc74-45f9-d686-f5a5fead9e56"
      },
      "execution_count": 17,
      "outputs": [
        {
          "output_type": "stream",
          "name": "stdout",
          "text": [
            "Universidad de La Salle\n"
          ]
        }
      ]
    },
    {
      "cell_type": "code",
      "source": [
        "# Slicing\n",
        "print('Extract the first element of u:', u[0])\n",
        "print('The space is also an elemnt:', u[11])\n",
        "print('Extract the last element of u:', u[-1])\n",
        "print('Extract the first two element of u:', u[0:2])\n",
        "print('Extract the last two element of u:', u[-2:-1]) #npi"
      ],
      "metadata": {
        "colab": {
          "base_uri": "https://localhost:8080/"
        },
        "id": "E8JUGeZ9GWdB",
        "outputId": "e0732987-7785-4534-ed92-3620ac155c90"
      },
      "execution_count": 29,
      "outputs": [
        {
          "output_type": "stream",
          "name": "stdout",
          "text": [
            "Extract the first element of u: U\n",
            "The space is also an elemnt:  \n",
            "Extract the last element of u: e\n",
            "Extract the first two element of u: Un\n",
            "Extract the last two element of u: l\n"
          ]
        }
      ]
    },
    {
      "cell_type": "markdown",
      "source": [
        "**Method**"
      ],
      "metadata": {
        "id": "k47MjsGRJQnK"
      }
    },
    {
      "cell_type": "code",
      "source": [
        "# Lower case\n",
        "u.lower()"
      ],
      "metadata": {
        "colab": {
          "base_uri": "https://localhost:8080/",
          "height": 35
        },
        "id": "SR7o11t3JWIR",
        "outputId": "1c533dd3-028a-4108-d945-d7af2e9ed710"
      },
      "execution_count": 31,
      "outputs": [
        {
          "output_type": "execute_result",
          "data": {
            "text/plain": [
              "'universidad de la salle'"
            ],
            "application/vnd.google.colaboratory.intrinsic+json": {
              "type": "string"
            }
          },
          "metadata": {},
          "execution_count": 31
        }
      ]
    },
    {
      "cell_type": "code",
      "source": [
        "# Upper case\n",
        "u.upper()"
      ],
      "metadata": {
        "colab": {
          "base_uri": "https://localhost:8080/",
          "height": 35
        },
        "id": "VCvgg_VLJwK5",
        "outputId": "e082a447-79f3-42a0-eb99-cf9ffac5a151"
      },
      "execution_count": 32,
      "outputs": [
        {
          "output_type": "execute_result",
          "data": {
            "text/plain": [
              "'UNIVERSIDAD DE LA SALLE'"
            ],
            "application/vnd.google.colaboratory.intrinsic+json": {
              "type": "string"
            }
          },
          "metadata": {},
          "execution_count": 32
        }
      ]
    },
    {
      "cell_type": "code",
      "source": [
        "# Split\n",
        "u.split(' ')"
      ],
      "metadata": {
        "colab": {
          "base_uri": "https://localhost:8080/"
        },
        "id": "n4Ym9dvoKQCR",
        "outputId": "6fe1a7c8-210b-45b9-d0ba-c10b7d1b5936"
      },
      "execution_count": 35,
      "outputs": [
        {
          "output_type": "execute_result",
          "data": {
            "text/plain": [
              "['Universidad', 'de', 'La', 'Salle']"
            ]
          },
          "metadata": {},
          "execution_count": 35
        }
      ]
    },
    {
      "cell_type": "code",
      "source": [
        "u.split(' ')[0]"
      ],
      "metadata": {
        "colab": {
          "base_uri": "https://localhost:8080/",
          "height": 35
        },
        "id": "yrq8FXMkK5SZ",
        "outputId": "b8f9930e-3be5-48d4-d29d-c003be55623a"
      },
      "execution_count": 36,
      "outputs": [
        {
          "output_type": "execute_result",
          "data": {
            "text/plain": [
              "'Universidad'"
            ],
            "application/vnd.google.colaboratory.intrinsic+json": {
              "type": "string"
            }
          },
          "metadata": {},
          "execution_count": 36
        }
      ]
    }
  ]
}