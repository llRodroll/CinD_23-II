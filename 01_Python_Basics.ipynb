{
  "nbformat": 4,
  "nbformat_minor": 0,
  "metadata": {
    "colab": {
      "provenance": [],
      "authorship_tag": "ABX9TyMPGeozzXHdEt3n0dF/h6ow",
      "include_colab_link": true
    },
    "kernelspec": {
      "name": "python3",
      "display_name": "Python 3"
    },
    "language_info": {
      "name": "python"
    }
  },
  "cells": [
    {
      "cell_type": "markdown",
      "metadata": {
        "id": "view-in-github",
        "colab_type": "text"
      },
      "source": [
        "<a href=\"https://colab.research.google.com/github/llRodroll/CinD_23-II/blob/main/01_Python_Basics.ipynb\" target=\"_parent\"><img src=\"https://colab.research.google.com/assets/colab-badge.svg\" alt=\"Open In Colab\"/></a>"
      ]
    },
    {
      "cell_type": "markdown",
      "source": [
        "# **1. Getting started**"
      ],
      "metadata": {
        "id": "9P9v3GNw7O-3"
      }
    },
    {
      "cell_type": "markdown",
      "source": [
        "## 1.1. Python as a Calculator"
      ],
      "metadata": {
        "id": "aouyLeX37WR_"
      }
    },
    {
      "cell_type": "code",
      "execution_count": null,
      "metadata": {
        "colab": {
          "base_uri": "https://localhost:8080/"
        },
        "id": "ldmnIW8O6KJ5",
        "outputId": "5139aea0-2ad6-4c3a-bfda-274b4825f3b6"
      },
      "outputs": [
        {
          "output_type": "execute_result",
          "data": {
            "text/plain": [
              "5"
            ]
          },
          "metadata": {},
          "execution_count": 2
        }
      ],
      "source": [
        "# Addition\n",
        "2 + 3"
      ]
    },
    {
      "cell_type": "code",
      "source": [
        "# Substraction\n",
        "15 - 7"
      ],
      "metadata": {
        "colab": {
          "base_uri": "https://localhost:8080/"
        },
        "id": "Kxuh-F6q8Uvs",
        "outputId": "39846739-4974-48a3-dd1f-d5ddf94f4914"
      },
      "execution_count": null,
      "outputs": [
        {
          "output_type": "execute_result",
          "data": {
            "text/plain": [
              "8"
            ]
          },
          "metadata": {},
          "execution_count": 3
        }
      ]
    },
    {
      "cell_type": "code",
      "source": [
        "# Multiplication\n",
        "63 * 13"
      ],
      "metadata": {
        "colab": {
          "base_uri": "https://localhost:8080/"
        },
        "id": "t9UEcA198cYE",
        "outputId": "0b4207a1-b755-469f-f9d5-f1db110d90e4"
      },
      "execution_count": null,
      "outputs": [
        {
          "output_type": "execute_result",
          "data": {
            "text/plain": [
              "819"
            ]
          },
          "metadata": {},
          "execution_count": 4
        }
      ]
    },
    {
      "cell_type": "code",
      "source": [
        "# Division\n",
        "99 / 43"
      ],
      "metadata": {
        "colab": {
          "base_uri": "https://localhost:8080/"
        },
        "id": "8NebHTjr8kA8",
        "outputId": "a0987759-6f4e-494a-9c28-dfcebea5fb24"
      },
      "execution_count": null,
      "outputs": [
        {
          "output_type": "execute_result",
          "data": {
            "text/plain": [
              "2.302325581395349"
            ]
          },
          "metadata": {},
          "execution_count": 5
        }
      ]
    },
    {
      "cell_type": "code",
      "source": [
        "# ???\n",
        "99 // 43"
      ],
      "metadata": {
        "id": "RizPvfW98wnt",
        "outputId": "91d83639-59ee-4d15-d1ad-cf6b8291ac02",
        "colab": {
          "base_uri": "https://localhost:8080/"
        }
      },
      "execution_count": null,
      "outputs": [
        {
          "output_type": "execute_result",
          "data": {
            "text/plain": [
              "2"
            ]
          },
          "metadata": {},
          "execution_count": 6
        }
      ]
    },
    {
      "cell_type": "code",
      "source": [
        "# Exponentials\n",
        "8 ** 4"
      ],
      "metadata": {
        "colab": {
          "base_uri": "https://localhost:8080/"
        },
        "id": "dO_QFzMa-dID",
        "outputId": "22bb5101-a72c-49d5-c5e2-2b57d77305a5"
      },
      "execution_count": null,
      "outputs": [
        {
          "output_type": "execute_result",
          "data": {
            "text/plain": [
              "4096"
            ]
          },
          "metadata": {},
          "execution_count": 7
        }
      ]
    },
    {
      "cell_type": "markdown",
      "source": [
        "## 1.2. Parentheses"
      ],
      "metadata": {
        "id": "buwd0Arg-k61"
      }
    },
    {
      "cell_type": "code",
      "source": [
        "7 * (2 + 3)"
      ],
      "metadata": {
        "colab": {
          "base_uri": "https://localhost:8080/"
        },
        "id": "_s8hbIwP-q6t",
        "outputId": "7ecc2c2a-669b-419a-844d-5a27b858f389"
      },
      "execution_count": null,
      "outputs": [
        {
          "output_type": "execute_result",
          "data": {
            "text/plain": [
              "35"
            ]
          },
          "metadata": {},
          "execution_count": 10
        }
      ]
    },
    {
      "cell_type": "markdown",
      "source": [
        "## 1.3. Integers versus Real numbers"
      ],
      "metadata": {
        "id": "7qAA34-UATXJ"
      }
    },
    {
      "cell_type": "code",
      "source": [
        "print(5)\n",
        "print(type(5))"
      ],
      "metadata": {
        "colab": {
          "base_uri": "https://localhost:8080/"
        },
        "id": "7MS3ikcJAYmo",
        "outputId": "507a97a6-eb69-4211-c931-0f35830c7cbd"
      },
      "execution_count": null,
      "outputs": [
        {
          "output_type": "stream",
          "name": "stdout",
          "text": [
            "5\n",
            "<class 'int'>\n"
          ]
        }
      ]
    },
    {
      "cell_type": "code",
      "source": [
        "print(5.0)\n",
        "print(type(5.0))"
      ],
      "metadata": {
        "colab": {
          "base_uri": "https://localhost:8080/"
        },
        "id": "K5yIUV-kBLiP",
        "outputId": "34716a84-bd4f-42e5-c2d4-15863c34a624"
      },
      "execution_count": null,
      "outputs": [
        {
          "output_type": "stream",
          "name": "stdout",
          "text": [
            "5.0\n",
            "<class 'float'>\n"
          ]
        }
      ]
    },
    {
      "cell_type": "markdown",
      "source": [
        "## 1.4. Scientific Notation"
      ],
      "metadata": {
        "id": "zlBPT8RQCXqm"
      }
    },
    {
      "cell_type": "code",
      "source": [
        "5.0e3"
      ],
      "metadata": {
        "id": "ydRVF5PMCe3a",
        "colab": {
          "base_uri": "https://localhost:8080/"
        },
        "outputId": "9fd34751-539a-40f4-f6e4-3203a6fe7904"
      },
      "execution_count": 1,
      "outputs": [
        {
          "output_type": "execute_result",
          "data": {
            "text/plain": [
              "5000.0"
            ]
          },
          "metadata": {},
          "execution_count": 1
        }
      ]
    },
    {
      "cell_type": "code",
      "source": [
        "3.2e2"
      ],
      "metadata": {
        "colab": {
          "base_uri": "https://localhost:8080/"
        },
        "id": "7RfdSEna5BbN",
        "outputId": "0cbc9acf-5df4-49b0-9bcc-24212903ddaf"
      },
      "execution_count": 3,
      "outputs": [
        {
          "output_type": "execute_result",
          "data": {
            "text/plain": [
              "320.0"
            ]
          },
          "metadata": {},
          "execution_count": 3
        }
      ]
    },
    {
      "cell_type": "markdown",
      "source": [
        "# **2. Basic functions**"
      ],
      "metadata": {
        "id": "IogsRa1w5iMn"
      }
    },
    {
      "cell_type": "markdown",
      "source": [
        "## 2.1. Print"
      ],
      "metadata": {
        "id": "tZytIGiE5oqk"
      }
    },
    {
      "cell_type": "code",
      "source": [
        "print(15)\n",
        "print(16)"
      ],
      "metadata": {
        "colab": {
          "base_uri": "https://localhost:8080/"
        },
        "id": "BscNBqq45sqM",
        "outputId": "8326a4a2-a2f9-4ddf-9b51-c4294f04391e"
      },
      "execution_count": 6,
      "outputs": [
        {
          "output_type": "stream",
          "name": "stdout",
          "text": [
            "15\n",
            "16\n"
          ]
        }
      ]
    },
    {
      "cell_type": "code",
      "source": [
        "# Print different elements in the same line\n",
        "print(9, 8, 2023)"
      ],
      "metadata": {
        "colab": {
          "base_uri": "https://localhost:8080/"
        },
        "id": "NKkwHS3K6VeM",
        "outputId": "09b16f1d-201f-488a-e33b-1c4dd9a101e8"
      },
      "execution_count": 7,
      "outputs": [
        {
          "output_type": "stream",
          "name": "stdout",
          "text": [
            "9 8 2023\n"
          ]
        }
      ]
    },
    {
      "cell_type": "code",
      "source": [
        "# ???\n",
        "for i in range(1,11): print(i)"
      ],
      "metadata": {
        "colab": {
          "base_uri": "https://localhost:8080/"
        },
        "id": "F5T6xux47LT0",
        "outputId": "2612b002-ddaf-487d-c2fd-0cff8faf367f"
      },
      "execution_count": 11,
      "outputs": [
        {
          "output_type": "stream",
          "name": "stdout",
          "text": [
            "1\n",
            "4\n",
            "7\n",
            "10\n"
          ]
        }
      ]
    },
    {
      "cell_type": "code",
      "source": [
        "# With a step, in this case 3\n",
        "for i in range(1,11,3): print(i)"
      ],
      "metadata": {
        "id": "N8nrwkyK7yiX"
      },
      "execution_count": null,
      "outputs": []
    },
    {
      "cell_type": "code",
      "source": [
        "# With Text\n",
        "print(\"Rodrigo\")\n",
        "print(\"First Names:\", \"José Rodrigo\")\n",
        "print(\"First Names:\\t\", \"José Rodrigo\")\n",
        "print(\"First Names:\\n\", \"José Rodrigo\")"
      ],
      "metadata": {
        "colab": {
          "base_uri": "https://localhost:8080/"
        },
        "id": "pPjlktYH9QZm",
        "outputId": "b511cfaf-3b30-4358-8b7e-4513ebc1f233"
      },
      "execution_count": 16,
      "outputs": [
        {
          "output_type": "stream",
          "name": "stdout",
          "text": [
            "Rodrigo\n",
            "First Names: José Rodrigo\n",
            "First Names:\t José Rodrigo\n",
            "First Names:\n",
            " José Rodrigo\n"
          ]
        }
      ]
    },
    {
      "cell_type": "code",
      "source": [
        "# Text and numbers\n",
        "print('My favorrite number is', 21)"
      ],
      "metadata": {
        "colab": {
          "base_uri": "https://localhost:8080/"
        },
        "id": "bFTp22Wo-nCh",
        "outputId": "b73d2641-abec-427d-d6c8-8ba59a78cf8e"
      },
      "execution_count": 17,
      "outputs": [
        {
          "output_type": "stream",
          "name": "stdout",
          "text": [
            "My favorrite number is 21\n"
          ]
        }
      ]
    },
    {
      "cell_type": "markdown",
      "source": [
        "## 2.2. Round"
      ],
      "metadata": {
        "id": "fh8TteK2-5mp"
      }
    },
    {
      "cell_type": "code",
      "source": [
        "round(5.7289,2)"
      ],
      "metadata": {
        "colab": {
          "base_uri": "https://localhost:8080/"
        },
        "id": "44XqZSZL--Op",
        "outputId": "0023203f-4519-4ada-baa4-6cc1d29d3a73"
      },
      "execution_count": 19,
      "outputs": [
        {
          "output_type": "execute_result",
          "data": {
            "text/plain": [
              "5.73"
            ]
          },
          "metadata": {},
          "execution_count": 19
        }
      ]
    },
    {
      "cell_type": "code",
      "source": [
        "# Exercise 1\n",
        "## Aproximate the number 15.4795612358\n",
        "## to 1,2,3,....., decimals and print the result\n",
        "\n",
        "for i in range(0,11):\n",
        "  print('Approx. with:',i,'decimals',round(15.4795612358,i))"
      ],
      "metadata": {
        "id": "AQomrQaI_PSZ"
      },
      "execution_count": null,
      "outputs": []
    },
    {
      "cell_type": "code",
      "source": [
        "# Exercise 2\n",
        "# Find and print the 100 first multples of 7\n",
        "\n",
        "for i in range(0,101):\n",
        "  print('The multiple in position',i,'is',i*7)"
      ],
      "metadata": {
        "id": "E2XRtBO0Emm8"
      },
      "execution_count": null,
      "outputs": []
    },
    {
      "cell_type": "code",
      "source": [
        "# Exercise\n",
        "# Calculate and print the multplication table, up to 9,\n",
        "# for the numbers 3,4,5,6\n",
        "\n",
        "for j in range(3,7):\n",
        "  print('Multiplication Table of', j)\n",
        "  for i in range(1,10):\n",
        "    print(j,'x',i,'=' ,j*i)"
      ],
      "metadata": {
        "colab": {
          "base_uri": "https://localhost:8080/"
        },
        "id": "dzP27e-zHATt",
        "outputId": "a544b3e6-2d46-4c1d-9740-274a936f7ef0"
      },
      "execution_count": 30,
      "outputs": [
        {
          "output_type": "stream",
          "name": "stdout",
          "text": [
            "Multiplication Table of 3\n",
            "3 x 1 = 3\n",
            "3 x 2 = 6\n",
            "3 x 3 = 9\n",
            "3 x 4 = 12\n",
            "3 x 5 = 15\n",
            "3 x 6 = 18\n",
            "3 x 7 = 21\n",
            "3 x 8 = 24\n",
            "3 x 9 = 27\n",
            "Multiplication Table of 4\n",
            "4 x 1 = 4\n",
            "4 x 2 = 8\n",
            "4 x 3 = 12\n",
            "4 x 4 = 16\n",
            "4 x 5 = 20\n",
            "4 x 6 = 24\n",
            "4 x 7 = 28\n",
            "4 x 8 = 32\n",
            "4 x 9 = 36\n",
            "Multiplication Table of 5\n",
            "5 x 1 = 5\n",
            "5 x 2 = 10\n",
            "5 x 3 = 15\n",
            "5 x 4 = 20\n",
            "5 x 5 = 25\n",
            "5 x 6 = 30\n",
            "5 x 7 = 35\n",
            "5 x 8 = 40\n",
            "5 x 9 = 45\n",
            "Multiplication Table of 6\n",
            "6 x 1 = 6\n",
            "6 x 2 = 12\n",
            "6 x 3 = 18\n",
            "6 x 4 = 24\n",
            "6 x 5 = 30\n",
            "6 x 6 = 36\n",
            "6 x 7 = 42\n",
            "6 x 8 = 48\n",
            "6 x 9 = 54\n"
          ]
        }
      ]
    }
  ]
}