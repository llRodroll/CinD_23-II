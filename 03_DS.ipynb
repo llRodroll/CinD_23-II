{
  "nbformat": 4,
  "nbformat_minor": 0,
  "metadata": {
    "colab": {
      "provenance": [],
      "authorship_tag": "ABX9TyOFirwYyJNJSG0SQaqqVgqq",
      "include_colab_link": true
    },
    "kernelspec": {
      "name": "python3",
      "display_name": "Python 3"
    },
    "language_info": {
      "name": "python"
    }
  },
  "cells": [
    {
      "cell_type": "markdown",
      "metadata": {
        "id": "view-in-github",
        "colab_type": "text"
      },
      "source": [
        "<a href=\"https://colab.research.google.com/github/llRodroll/CinD_23-II/blob/main/03_DS.ipynb\" target=\"_parent\"><img src=\"https://colab.research.google.com/assets/colab-badge.svg\" alt=\"Open In Colab\"/></a>"
      ]
    },
    {
      "cell_type": "markdown",
      "source": [
        "# **1. What is a data structre?**\n",
        "\n",
        "Something that let me store several values."
      ],
      "metadata": {
        "id": "jI-YIg8qDzv6"
      }
    },
    {
      "cell_type": "markdown",
      "source": [
        "# **2. Linear Algebra - Numpy**"
      ],
      "metadata": {
        "id": "jB6GTbJNGgn_"
      }
    },
    {
      "cell_type": "markdown",
      "source": [
        "Numpy = Numerical Python"
      ],
      "metadata": {
        "id": "tDr4Jc5oGpOG"
      }
    },
    {
      "cell_type": "code",
      "execution_count": 1,
      "metadata": {
        "id": "KXUg1konDuRY"
      },
      "outputs": [],
      "source": [
        "# Libraries\n",
        "import numpy as np"
      ]
    },
    {
      "cell_type": "markdown",
      "source": [
        "## 2.1. Numpy arrays - Vectors and Matrices"
      ],
      "metadata": {
        "id": "Bpkkid9mH0vl"
      }
    },
    {
      "cell_type": "code",
      "source": [
        "# Column Vector\n",
        "x = np.array([[1],[2],[3]])\n",
        "print(x)\n",
        "print(x.shape)"
      ],
      "metadata": {
        "colab": {
          "base_uri": "https://localhost:8080/"
        },
        "id": "xaF1ys4oH770",
        "outputId": "1fdd3a2b-4669-436a-f0ba-627a6b7f0405"
      },
      "execution_count": 2,
      "outputs": [
        {
          "output_type": "stream",
          "name": "stdout",
          "text": [
            "[[1]\n",
            " [2]\n",
            " [3]]\n",
            "(3, 1)\n"
          ]
        }
      ]
    },
    {
      "cell_type": "code",
      "source": [
        "# Row Vector\n",
        "y = np.array([[3, 4, 5]])\n",
        "print(y)\n",
        "print(y.shape)"
      ],
      "metadata": {
        "colab": {
          "base_uri": "https://localhost:8080/"
        },
        "id": "yT4GMs-aJ5zL",
        "outputId": "c9bb39fc-e49d-4fbb-85fe-249762d9eefe"
      },
      "execution_count": 3,
      "outputs": [
        {
          "output_type": "stream",
          "name": "stdout",
          "text": [
            "[[3 4 5]]\n",
            "(1, 3)\n"
          ]
        }
      ]
    },
    {
      "cell_type": "code",
      "source": [
        "# Matrix\n",
        "M = np.array([[1, 2, 3],\n",
        "              [4, 5 ,6],\n",
        "              [7, 8, 9]])\n",
        "print(M)\n",
        "print(M.shape)"
      ],
      "metadata": {
        "colab": {
          "base_uri": "https://localhost:8080/"
        },
        "id": "uzkwReICLyl5",
        "outputId": "131beb0e-e6d2-42dd-a2ed-af2c294ec86b"
      },
      "execution_count": 4,
      "outputs": [
        {
          "output_type": "stream",
          "name": "stdout",
          "text": [
            "[[1 2 3]\n",
            " [4 5 6]\n",
            " [7 8 9]]\n",
            "(3, 3)\n"
          ]
        }
      ]
    },
    {
      "cell_type": "code",
      "source": [
        "# A nice trick\n",
        "n, m = M.shape\n",
        "print('number of rows in M:', n)\n",
        "print('number of columns in M:', m)"
      ],
      "metadata": {
        "colab": {
          "base_uri": "https://localhost:8080/"
        },
        "id": "gTK0UToMMZ0x",
        "outputId": "31642fd7-7f63-4b76-8c28-746cb0614227"
      },
      "execution_count": 5,
      "outputs": [
        {
          "output_type": "stream",
          "name": "stdout",
          "text": [
            "number of rows in M: 3\n",
            "number of columns in M: 3\n"
          ]
        }
      ]
    },
    {
      "cell_type": "markdown",
      "source": [
        "## 2.2. Slicing with matrices"
      ],
      "metadata": {
        "id": "My_s7zPrHg1E"
      }
    },
    {
      "cell_type": "code",
      "source": [
        "# Access 1 element\n",
        "\n",
        "## For vector\n",
        "### Column Vector\n",
        "print(x[2,0])\n",
        "### Row Vector\n",
        "print(y[0,0])\n",
        "\n",
        "## For matrix\n",
        "print(M[1,1])"
      ],
      "metadata": {
        "colab": {
          "base_uri": "https://localhost:8080/"
        },
        "id": "iruiN85YHvGt",
        "outputId": "7c8b6e6b-e72f-4b96-959d-06b70b9b4026"
      },
      "execution_count": 6,
      "outputs": [
        {
          "output_type": "stream",
          "name": "stdout",
          "text": [
            "3\n",
            "3\n",
            "5\n"
          ]
        }
      ]
    },
    {
      "cell_type": "code",
      "source": [
        "# Exercise - Practice\n",
        "## Using a for loop display/print the number of the row,\n",
        "## the number of the column, and the element for\n",
        "## every element in the Matrix M\n",
        "\n",
        "for j in range(0,3):\n",
        "  for i in range(0,3):\n",
        "    print(\"Row Position:\", j+1, \"Column Position\", i+1, \"Element:\", M[j,i])"
      ],
      "metadata": {
        "id": "kp8eUuuiJxQl",
        "colab": {
          "base_uri": "https://localhost:8080/"
        },
        "outputId": "ccf84fff-1e34-4a74-abc0-072a9034445a"
      },
      "execution_count": 7,
      "outputs": [
        {
          "output_type": "stream",
          "name": "stdout",
          "text": [
            "Row Position: 1 Column Position 1 Element: 1\n",
            "Row Position: 1 Column Position 2 Element: 2\n",
            "Row Position: 1 Column Position 3 Element: 3\n",
            "Row Position: 2 Column Position 1 Element: 4\n",
            "Row Position: 2 Column Position 2 Element: 5\n",
            "Row Position: 2 Column Position 3 Element: 6\n",
            "Row Position: 3 Column Position 1 Element: 7\n",
            "Row Position: 3 Column Position 2 Element: 8\n",
            "Row Position: 3 Column Position 3 Element: 9\n"
          ]
        }
      ]
    },
    {
      "cell_type": "markdown",
      "source": [
        "## 2.3. Extract subsets"
      ],
      "metadata": {
        "id": "UlxGpPKwHgrM"
      }
    },
    {
      "cell_type": "code",
      "source": [
        "# Extract an entire Row\n",
        "print(M[1,])\n",
        "\n",
        "# Extract an entire Column\n",
        "print(M[:,1])"
      ],
      "metadata": {
        "colab": {
          "base_uri": "https://localhost:8080/"
        },
        "id": "Tf4mStr2HqBE",
        "outputId": "14b76802-fa9c-49f5-d822-f2c2099ecf6e"
      },
      "execution_count": 8,
      "outputs": [
        {
          "output_type": "stream",
          "name": "stdout",
          "text": [
            "[4 5 6]\n",
            "[2 5 8]\n"
          ]
        }
      ]
    },
    {
      "cell_type": "code",
      "source": [
        "# Extract the elements of the\n",
        "# last row and columns 2 and 3\n",
        "print(M[2,1:3])"
      ],
      "metadata": {
        "colab": {
          "base_uri": "https://localhost:8080/"
        },
        "id": "N4ixq7hIJGML",
        "outputId": "a8412ff4-62bb-4a65-e912-f1caa6aaefcd"
      },
      "execution_count": 9,
      "outputs": [
        {
          "output_type": "stream",
          "name": "stdout",
          "text": [
            "[8 9]\n"
          ]
        }
      ]
    },
    {
      "cell_type": "code",
      "source": [
        "# Extract the elements of the\n",
        "# first two rows and the last two columns\n",
        "print(M[0:2,1:3])"
      ],
      "metadata": {
        "colab": {
          "base_uri": "https://localhost:8080/"
        },
        "id": "2P5uzlbAJnQB",
        "outputId": "bd9f09af-d559-4f68-ad07-c66536ada7a3"
      },
      "execution_count": 10,
      "outputs": [
        {
          "output_type": "stream",
          "name": "stdout",
          "text": [
            "[[2 3]\n",
            " [5 6]]\n"
          ]
        }
      ]
    },
    {
      "cell_type": "markdown",
      "source": [
        "## 2.4. Useful methods"
      ],
      "metadata": {
        "id": "VC_96mjZLmCI"
      }
    },
    {
      "cell_type": "code",
      "source": [
        "# Zeros\n",
        "\n",
        "## One dimensiom\n",
        "z1 = np.zeros(7)\n",
        "print(\"z1\")\n",
        "print(z1)\n",
        "\n",
        "## Two dimensions\n",
        "z2 = np.zeros((3,5))\n",
        "print(\"z2\")\n",
        "print(z2)"
      ],
      "metadata": {
        "colab": {
          "base_uri": "https://localhost:8080/"
        },
        "id": "Yv1EJGzSLo_o",
        "outputId": "72386ada-ae93-4d11-807a-4ac6150aa8f7"
      },
      "execution_count": 11,
      "outputs": [
        {
          "output_type": "stream",
          "name": "stdout",
          "text": [
            "z1\n",
            "[0. 0. 0. 0. 0. 0. 0.]\n",
            "z2\n",
            "[[0. 0. 0. 0. 0.]\n",
            " [0. 0. 0. 0. 0.]\n",
            " [0. 0. 0. 0. 0.]]\n"
          ]
        }
      ]
    },
    {
      "cell_type": "code",
      "source": [
        "# Ones\n",
        "\n",
        "## One dimensiom\n",
        "o1 = np.ones(7)\n",
        "print(\"o1\")\n",
        "print(o1)\n",
        "\n",
        "## Two dimensions\n",
        "o2 = np.ones((3,5))\n",
        "print(\"o2\")\n",
        "print(o2)"
      ],
      "metadata": {
        "id": "bNLRVaFFM4zX",
        "colab": {
          "base_uri": "https://localhost:8080/"
        },
        "outputId": "aa1fdd08-7a52-4d69-883b-c7db6e79c38c"
      },
      "execution_count": 12,
      "outputs": [
        {
          "output_type": "stream",
          "name": "stdout",
          "text": [
            "o1\n",
            "[1. 1. 1. 1. 1. 1. 1.]\n",
            "o2\n",
            "[[1. 1. 1. 1. 1.]\n",
            " [1. 1. 1. 1. 1.]\n",
            " [1. 1. 1. 1. 1.]]\n"
          ]
        }
      ]
    },
    {
      "cell_type": "code",
      "source": [
        "# Full\n",
        "\n",
        "## One dimesion\n",
        "f1 = np.full(3,13)\n",
        "print(\"f1\")\n",
        "print(f1)\n",
        "\n",
        "## Two dimesions\n",
        "f2 = np.full((3,2),17)\n",
        "print(\"f2\")\n",
        "print(f2)"
      ],
      "metadata": {
        "id": "oqbrSxJ8NTfW",
        "colab": {
          "base_uri": "https://localhost:8080/"
        },
        "outputId": "fc03adab-7189-4a25-9677-b2781884f6ba"
      },
      "execution_count": 13,
      "outputs": [
        {
          "output_type": "stream",
          "name": "stdout",
          "text": [
            "f1\n",
            "[13 13 13]\n",
            "f2\n",
            "[[17 17]\n",
            " [17 17]\n",
            " [17 17]]\n"
          ]
        }
      ]
    },
    {
      "cell_type": "code",
      "source": [
        "# Sequence\n",
        "\n",
        "## Simple\n",
        "s1 = np.arange(10)\n",
        "print(\"s1\")\n",
        "print(s1)\n",
        "\n",
        "## Not that simple\n",
        "s2 = np.arange(start = 2, stop = 15)\n",
        "print(\"s2\")\n",
        "print(s2)\n",
        "\n",
        "## Custom\n",
        "s3 = np.arange(start = 2, stop = 15, step = 3)\n",
        "print(\"s3\")\n",
        "print(s3)"
      ],
      "metadata": {
        "id": "7rTNgj6eOD9-",
        "colab": {
          "base_uri": "https://localhost:8080/"
        },
        "outputId": "ebdffb2b-69aa-4653-eb70-a73c060af4ee"
      },
      "execution_count": 14,
      "outputs": [
        {
          "output_type": "stream",
          "name": "stdout",
          "text": [
            "s1\n",
            "[0 1 2 3 4 5 6 7 8 9]\n",
            "s2\n",
            "[ 2  3  4  5  6  7  8  9 10 11 12 13 14]\n",
            "s3\n",
            "[ 2  5  8 11 14]\n"
          ]
        }
      ]
    },
    {
      "cell_type": "code",
      "source": [
        "# Linear Space\n",
        "\n",
        "l1 = np.linspace(0,2,5)\n",
        "print(\"l1\")\n",
        "print(l1)"
      ],
      "metadata": {
        "id": "U7rpshfPPgq0",
        "colab": {
          "base_uri": "https://localhost:8080/"
        },
        "outputId": "4eee509b-adcd-42a3-c03d-a44f9880a9da"
      },
      "execution_count": 15,
      "outputs": [
        {
          "output_type": "stream",
          "name": "stdout",
          "text": [
            "l1\n",
            "[0.  0.5 1.  1.5 2. ]\n"
          ]
        }
      ]
    },
    {
      "cell_type": "markdown",
      "source": [
        "## 2.5. Random numbers"
      ],
      "metadata": {
        "id": "JgIxcck8QpOs"
      }
    },
    {
      "cell_type": "code",
      "source": [
        "# Uniform distribution - [0, 1)\n",
        "# np.random.seed(1234) - fix the similation\n",
        "np.random.rand()"
      ],
      "metadata": {
        "colab": {
          "base_uri": "https://localhost:8080/"
        },
        "id": "CSTbnB0pQtzD",
        "outputId": "c1793c5b-51a1-4101-94b7-54f56606fd82"
      },
      "execution_count": 16,
      "outputs": [
        {
          "output_type": "execute_result",
          "data": {
            "text/plain": [
              "0.9711341261932083"
            ]
          },
          "metadata": {},
          "execution_count": 16
        }
      ]
    },
    {
      "cell_type": "code",
      "source": [
        "# Example - Coin Toss simulation\n",
        "\n",
        "if np.random.rand() <= 0.5:\n",
        "  print(\"Heads\")\n",
        "else:\n",
        "  print(\"Tails\")"
      ],
      "metadata": {
        "colab": {
          "base_uri": "https://localhost:8080/"
        },
        "id": "fLVgafd1UKat",
        "outputId": "5045a833-a3bf-4641-f1b4-a49679ac8585"
      },
      "execution_count": 17,
      "outputs": [
        {
          "output_type": "stream",
          "name": "stdout",
          "text": [
            "Tails\n"
          ]
        }
      ]
    },
    {
      "cell_type": "markdown",
      "source": [
        "**if / else** with more than 2 options"
      ],
      "metadata": {
        "id": "n1yogy8nG8tk"
      }
    },
    {
      "cell_type": "code",
      "source": [
        "# Example - three options\n",
        "\n",
        "toss = np.random.rand()\n",
        "\n",
        "if toss <= 0.4:\n",
        "  print('green')\n",
        "elif toss > 0.4 and toss <= 0.6:\n",
        "  print('blue')\n",
        "else:\n",
        "  print('red')"
      ],
      "metadata": {
        "colab": {
          "base_uri": "https://localhost:8080/"
        },
        "id": "o7APW35oG5xc",
        "outputId": "d8b9a7fc-ec18-4bac-f1e3-423e840e56f7"
      },
      "execution_count": 27,
      "outputs": [
        {
          "output_type": "stream",
          "name": "stdout",
          "text": [
            "green\n"
          ]
        }
      ]
    },
    {
      "cell_type": "code",
      "source": [
        "# Exercise\n",
        "## Simulate three coin tosses and\n",
        "## present the results according these rules:\n",
        "\n",
        "## 1. Three Heads, Result: 'You win COP 100K'\n",
        "## 2. Three Tails, Result: 'You win COP 90k'\n",
        "## 3. Otherwise, Result: 'You loose'\n",
        "\n",
        "# toss <= 0.5 is Heads and else is Tails\n",
        "toss1 = np.random.rand()\n",
        "toss2 = np.random.rand()\n",
        "toss3 = np.random.rand()\n",
        "\n",
        "if toss1 <= 0.5 and toss2 <= 0.5 and toss3 <= 0.5:\n",
        "  print('Three Heads:', 'You win COP 100K')\n",
        "elif toss1 > 0.5 and toss2 > 0.5 and toss3 > 0.5:\n",
        "  print('Three Tails:', 'You win COP 90K')\n",
        "else:\n",
        "  print('You loose')"
      ],
      "metadata": {
        "colab": {
          "base_uri": "https://localhost:8080/"
        },
        "id": "jtGE7L_lI1_k",
        "outputId": "963af08e-de1c-4f17-af9d-9e3c096ee967"
      },
      "execution_count": 39,
      "outputs": [
        {
          "output_type": "stream",
          "name": "stdout",
          "text": [
            "Three Heads: You win COP 100K\n"
          ]
        }
      ]
    },
    {
      "cell_type": "code",
      "source": [
        "# Exercise\n",
        "## Simulate three coin tosses and\n",
        "## present the results according these rules:\n",
        "\n",
        "## 1. Three Heads, Result: 'You win COP 100K'\n",
        "## 2. Three Tails, Result: 'You win COP 90k'\n",
        "## 3. Otherwise, Result: 'You loose'\n",
        "\n",
        "# toss <= 0.5 is Heads and else is Tails\n",
        "tosses = np.random.rand(3)\n",
        "\n",
        "if np.all(tosses <= 0.5):\n",
        "  print('Three Heads:', 'You win COP 100K')\n",
        "elif np.all(tosses > 0.5):\n",
        "  print('Three Tails:', 'You win COP 90K')\n",
        "else:\n",
        "  print('You loose')"
      ],
      "metadata": {
        "colab": {
          "base_uri": "https://localhost:8080/"
        },
        "id": "WQ129awCNZw5",
        "outputId": "0404634d-f011-4ec7-c2b6-c8dc72b32ae4"
      },
      "execution_count": 54,
      "outputs": [
        {
          "output_type": "stream",
          "name": "stdout",
          "text": [
            "You loose\n"
          ]
        }
      ]
    },
    {
      "cell_type": "code",
      "source": [
        "# Example - Triangular Distribution\n",
        "np.random.triangular(100, 200, 500, 7)"
      ],
      "metadata": {
        "colab": {
          "base_uri": "https://localhost:8080/"
        },
        "id": "FpvNSt6OQLPv",
        "outputId": "7543fd84-caa5-4a99-e66a-3581733f287e"
      },
      "execution_count": 56,
      "outputs": [
        {
          "output_type": "execute_result",
          "data": {
            "text/plain": [
              "array([249.15285988, 262.81385754, 240.22291476, 179.98341959,\n",
              "       293.35674834, 294.94247811, 150.72622822])"
            ]
          },
          "metadata": {},
          "execution_count": 56
        }
      ]
    },
    {
      "cell_type": "code",
      "source": [
        "# Exercise - Replicate a discrete triangular distribution\n",
        "#             as in MS Excel\n",
        "\n",
        "## Imagine a business that has the following data on sales:\n",
        "## 1. In a bad day, the business would sell 100. The odds are 1/30.\n",
        "## 2. In a really good day, the business would sell 500. The odds are 8/30.\n",
        "## 3. An average day has sales of 200. The odds are 21/30.\n",
        "\n",
        "## Sales\n",
        "bs = 100\n",
        "av = 200\n",
        "gs = 500\n",
        "\n",
        "## Probabilities\n",
        "pb = 1/30\n",
        "pg = 8/30\n",
        "\n",
        "n = 7 # number of days ot iterate\n",
        "\n",
        "for i in range(1, n+1):\n",
        "  day = np.random.rand()\n",
        "  if  day <= pb:\n",
        "    print(bs)\n",
        "  elif day > 1 - pg:\n",
        "    print(gs)\n",
        "  else:\n",
        "    print(av)\n",
        "\n",
        "\n"
      ],
      "metadata": {
        "colab": {
          "base_uri": "https://localhost:8080/"
        },
        "id": "QbIX6VA2XI3S",
        "outputId": "c08abb80-42ad-4dd8-c4b9-7abe3d744042"
      },
      "execution_count": 73,
      "outputs": [
        {
          "output_type": "stream",
          "name": "stdout",
          "text": [
            "200\n",
            "200\n",
            "500\n",
            "200\n",
            "200\n",
            "200\n",
            "200\n"
          ]
        }
      ]
    }
  ]
}