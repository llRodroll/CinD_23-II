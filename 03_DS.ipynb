{
  "nbformat": 4,
  "nbformat_minor": 0,
  "metadata": {
    "colab": {
      "provenance": [],
      "authorship_tag": "ABX9TyMLq0n3+UBU4vXM5lDkwkII",
      "include_colab_link": true
    },
    "kernelspec": {
      "name": "python3",
      "display_name": "Python 3"
    },
    "language_info": {
      "name": "python"
    }
  },
  "cells": [
    {
      "cell_type": "markdown",
      "metadata": {
        "id": "view-in-github",
        "colab_type": "text"
      },
      "source": [
        "<a href=\"https://colab.research.google.com/github/llRodroll/CinD_23-II/blob/main/03_DS.ipynb\" target=\"_parent\"><img src=\"https://colab.research.google.com/assets/colab-badge.svg\" alt=\"Open In Colab\"/></a>"
      ]
    },
    {
      "cell_type": "markdown",
      "source": [
        "# **1. What is a data structre?**\n",
        "\n",
        "Something that let me store several values."
      ],
      "metadata": {
        "id": "jI-YIg8qDzv6"
      }
    },
    {
      "cell_type": "markdown",
      "source": [
        "# **2. Linear Algebra - Numpy**"
      ],
      "metadata": {
        "id": "jB6GTbJNGgn_"
      }
    },
    {
      "cell_type": "markdown",
      "source": [
        "Numpy = Numerical Python"
      ],
      "metadata": {
        "id": "tDr4Jc5oGpOG"
      }
    },
    {
      "cell_type": "code",
      "execution_count": 2,
      "metadata": {
        "id": "KXUg1konDuRY"
      },
      "outputs": [],
      "source": [
        "# Libraries\n",
        "import numpy as np"
      ]
    },
    {
      "cell_type": "markdown",
      "source": [
        "## 2.1. Numpy arrays - Vectors and Matrices"
      ],
      "metadata": {
        "id": "Bpkkid9mH0vl"
      }
    },
    {
      "cell_type": "code",
      "source": [
        "# Column Vector\n",
        "x = np.array([[1],[2],[3]])\n",
        "print(x)\n",
        "print(x.shape)"
      ],
      "metadata": {
        "colab": {
          "base_uri": "https://localhost:8080/"
        },
        "id": "xaF1ys4oH770",
        "outputId": "7d581c42-72c5-41ca-90db-2be3ab623f34"
      },
      "execution_count": 3,
      "outputs": [
        {
          "output_type": "stream",
          "name": "stdout",
          "text": [
            "[[1]\n",
            " [2]\n",
            " [3]]\n",
            "(3, 1)\n"
          ]
        }
      ]
    },
    {
      "cell_type": "code",
      "source": [
        "# Row Vector\n",
        "y = np.array([[3, 4, 5]])\n",
        "print(y)\n",
        "print(y.shape)"
      ],
      "metadata": {
        "colab": {
          "base_uri": "https://localhost:8080/"
        },
        "id": "yT4GMs-aJ5zL",
        "outputId": "d79d4053-c192-4812-a9b1-83a6546bcce2"
      },
      "execution_count": 4,
      "outputs": [
        {
          "output_type": "stream",
          "name": "stdout",
          "text": [
            "[[3 4 5]]\n",
            "(1, 3)\n"
          ]
        }
      ]
    },
    {
      "cell_type": "code",
      "source": [
        "# Matrix\n",
        "M = np.array([[1, 2, 3],\n",
        "              [4, 5 ,6],\n",
        "              [7, 8, 9]])\n",
        "print(M)\n",
        "print(M.shape)"
      ],
      "metadata": {
        "colab": {
          "base_uri": "https://localhost:8080/"
        },
        "id": "uzkwReICLyl5",
        "outputId": "08a93f35-1fb0-4a92-8ccb-4a5ea7981749"
      },
      "execution_count": 5,
      "outputs": [
        {
          "output_type": "stream",
          "name": "stdout",
          "text": [
            "[[1 2 3]\n",
            " [4 5 6]\n",
            " [7 8 9]]\n",
            "(3, 3)\n"
          ]
        }
      ]
    },
    {
      "cell_type": "code",
      "source": [
        "# A nice trick\n",
        "n, m = M.shape\n",
        "print('number of rows in M:', n)\n",
        "print('number of columns in M:', m)"
      ],
      "metadata": {
        "colab": {
          "base_uri": "https://localhost:8080/"
        },
        "id": "gTK0UToMMZ0x",
        "outputId": "de1ed8cb-1d60-4725-8ab7-4558e88da2a7"
      },
      "execution_count": 6,
      "outputs": [
        {
          "output_type": "stream",
          "name": "stdout",
          "text": [
            "number of rows in M: 3\n",
            "number of columns in M: 3\n"
          ]
        }
      ]
    },
    {
      "cell_type": "markdown",
      "source": [
        "## 2.2. Slicing with matrices"
      ],
      "metadata": {
        "id": "My_s7zPrHg1E"
      }
    },
    {
      "cell_type": "code",
      "source": [
        "# Access 1 element\n",
        "\n",
        "## For vector\n",
        "### Column Vector\n",
        "print(x[2,0])\n",
        "### Row Vector\n",
        "print(y[0,0])\n",
        "\n",
        "## For matrix\n",
        "print(M[1,1])"
      ],
      "metadata": {
        "colab": {
          "base_uri": "https://localhost:8080/"
        },
        "id": "iruiN85YHvGt",
        "outputId": "266866ad-3dbe-4358-991e-93e48b38f857"
      },
      "execution_count": 7,
      "outputs": [
        {
          "output_type": "stream",
          "name": "stdout",
          "text": [
            "3\n",
            "3\n",
            "5\n"
          ]
        }
      ]
    },
    {
      "cell_type": "code",
      "source": [
        "# Exercise - Practice\n",
        "## Using a for loop display/print the number of the row,\n",
        "## the number of the column, and the element for\n",
        "## every element in the Matrix M\n",
        "\n",
        "for j in range(0,3):\n",
        "  for i in range(0,3):\n",
        "    print(\"Row Position:\", j+1, \"Column Position\", i+1, \"Element:\", M[j,i])"
      ],
      "metadata": {
        "id": "kp8eUuuiJxQl"
      },
      "execution_count": null,
      "outputs": []
    },
    {
      "cell_type": "markdown",
      "source": [
        "## 2.3. Extract subsets"
      ],
      "metadata": {
        "id": "UlxGpPKwHgrM"
      }
    },
    {
      "cell_type": "code",
      "source": [
        "# Extract an entire Row\n",
        "print(M[1,])\n",
        "\n",
        "# Extract an entire Column\n",
        "print(M[:,1])"
      ],
      "metadata": {
        "colab": {
          "base_uri": "https://localhost:8080/"
        },
        "id": "Tf4mStr2HqBE",
        "outputId": "e2d14b26-578d-4416-f5b1-9a7cf6a384b4"
      },
      "execution_count": 23,
      "outputs": [
        {
          "output_type": "stream",
          "name": "stdout",
          "text": [
            "[4 5 6]\n",
            "[2 5 8]\n"
          ]
        }
      ]
    },
    {
      "cell_type": "code",
      "source": [
        "# Extract the elements of the\n",
        "# last row and columns 2 and 3\n",
        "print(M[2,1:3])"
      ],
      "metadata": {
        "colab": {
          "base_uri": "https://localhost:8080/"
        },
        "id": "N4ixq7hIJGML",
        "outputId": "c78d52eb-0ee9-4d9b-a6a3-f111ac08851e"
      },
      "execution_count": 25,
      "outputs": [
        {
          "output_type": "stream",
          "name": "stdout",
          "text": [
            "[8 9]\n"
          ]
        }
      ]
    },
    {
      "cell_type": "code",
      "source": [
        "# Extract the elements of the\n",
        "# first two rows and the last two columns\n",
        "print(M[0:2,1:3])"
      ],
      "metadata": {
        "colab": {
          "base_uri": "https://localhost:8080/"
        },
        "id": "2P5uzlbAJnQB",
        "outputId": "eec92b6e-8ded-475f-d75a-39365df7f72b"
      },
      "execution_count": 26,
      "outputs": [
        {
          "output_type": "stream",
          "name": "stdout",
          "text": [
            "[[2 3]\n",
            " [5 6]]\n"
          ]
        }
      ]
    },
    {
      "cell_type": "markdown",
      "source": [
        "## 2.4. Useful methods"
      ],
      "metadata": {
        "id": "VC_96mjZLmCI"
      }
    },
    {
      "cell_type": "code",
      "source": [
        "# Zeros\n",
        "\n",
        "## One dimensiom\n",
        "z1 = np.zeros(7)\n",
        "print(\"z1\")\n",
        "print(z1)\n",
        "\n",
        "## Two dimensions\n",
        "z2 = np.zeros((3,5))\n",
        "print(\"z2\")\n",
        "print(z2)"
      ],
      "metadata": {
        "colab": {
          "base_uri": "https://localhost:8080/"
        },
        "id": "Yv1EJGzSLo_o",
        "outputId": "2c48a866-d758-48f1-9570-eab98fd1874e"
      },
      "execution_count": 32,
      "outputs": [
        {
          "output_type": "stream",
          "name": "stdout",
          "text": [
            "z1\n",
            "[0. 0. 0. 0. 0. 0. 0.]\n",
            "z2\n",
            "[[0. 0. 0. 0. 0.]\n",
            " [0. 0. 0. 0. 0.]\n",
            " [0. 0. 0. 0. 0.]]\n"
          ]
        }
      ]
    },
    {
      "cell_type": "code",
      "source": [
        "# Ones\n",
        "\n",
        "## One dimensiom\n",
        "o1 = np.ones(7)\n",
        "print(\"o1\")\n",
        "print(o1)\n",
        "\n",
        "## Two dimensions\n",
        "o2 = np.ones((3,5))\n",
        "print(\"o2\")\n",
        "print(o2)"
      ],
      "metadata": {
        "id": "bNLRVaFFM4zX"
      },
      "execution_count": null,
      "outputs": []
    },
    {
      "cell_type": "code",
      "source": [
        "# Full\n",
        "\n",
        "## One dimesion\n",
        "f1 = np.full(3,13)\n",
        "print(\"f1\")\n",
        "print(f1)\n",
        "\n",
        "## Two dimesions\n",
        "f2 = np.full((3,2),17)\n",
        "print(\"f2\")\n",
        "print(f2)"
      ],
      "metadata": {
        "id": "oqbrSxJ8NTfW"
      },
      "execution_count": null,
      "outputs": []
    },
    {
      "cell_type": "code",
      "source": [
        "# Sequence\n",
        "\n",
        "## Simple\n",
        "s1 = np.arange(10)\n",
        "print(\"s1\")\n",
        "print(s1)\n",
        "\n",
        "## Not that simple\n",
        "s2 = np.arange(start = 2, stop = 15)\n",
        "print(\"s2\")\n",
        "print(s2)\n",
        "\n",
        "## Custom\n",
        "s3 = np.arange(start = 2, stop = 15, step = 3)\n",
        "print(\"s3\")\n",
        "print(s3)"
      ],
      "metadata": {
        "id": "7rTNgj6eOD9-"
      },
      "execution_count": null,
      "outputs": []
    },
    {
      "cell_type": "code",
      "source": [
        "# Linear Space\n",
        "\n",
        "l1 = np.linspace(0,2,5)\n",
        "print(\"l1\")\n",
        "print(l1)"
      ],
      "metadata": {
        "id": "U7rpshfPPgq0"
      },
      "execution_count": null,
      "outputs": []
    },
    {
      "cell_type": "markdown",
      "source": [
        "## 2.5. Random numbers"
      ],
      "metadata": {
        "id": "JgIxcck8QpOs"
      }
    },
    {
      "cell_type": "code",
      "source": [
        "# Uniform distribution - [0, 1)\n",
        "# np.random.seed(1234) - fix the similation\n",
        "np.random.rand()"
      ],
      "metadata": {
        "colab": {
          "base_uri": "https://localhost:8080/"
        },
        "id": "CSTbnB0pQtzD",
        "outputId": "9e211d96-461a-4556-b7eb-6872727d9cc3"
      },
      "execution_count": 67,
      "outputs": [
        {
          "output_type": "execute_result",
          "data": {
            "text/plain": [
              "0.7853585837137692"
            ]
          },
          "metadata": {},
          "execution_count": 67
        }
      ]
    },
    {
      "cell_type": "code",
      "source": [
        "# Example - Toss coin simulation\n",
        "\n",
        "if np.random.rand() <= 0.5:\n",
        "  print(\"Heads\")\n",
        "else:\n",
        "  print(\"Tails\")"
      ],
      "metadata": {
        "colab": {
          "base_uri": "https://localhost:8080/"
        },
        "id": "fLVgafd1UKat",
        "outputId": "f3e41337-064d-4303-c799-67abd09620e7"
      },
      "execution_count": 87,
      "outputs": [
        {
          "output_type": "stream",
          "name": "stdout",
          "text": [
            "Heads\n"
          ]
        }
      ]
    }
  ]
}